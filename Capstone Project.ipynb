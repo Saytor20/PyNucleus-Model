{
 "cells": [
  {
   "cell_type": "code",
   "execution_count": 1,
   "metadata": {
    "colab": {
     "base_uri": "https://localhost:8080/"
    },
    "executionInfo": {
     "elapsed": 21621,
     "status": "ok",
     "timestamp": 1748965189264,
     "user": {
      "displayName": "Mohammad A.",
      "userId": "15199683412159334052"
     },
     "user_tz": 240
    },
    "id": "pxJK6GpyVui7",
    "outputId": "5fcaf74f-4292-4847-fb37-57d1c0d9a971"
   },
   "outputs": [
    {
     "name": "stdout",
     "output_type": "stream",
     "text": [
      "Username: Saytor20\n",
      "Token: ghp_...\n",
      "Pulling latest changes from GitHub...\n",
      "remote: Enumerating objects: 28, done.\u001b[K\n",
      "remote: Counting objects: 100% (5/5), done.\u001b[K\n",
      "remote: Total 28 (delta 5), reused 5 (delta 5), pack-reused 23 (from 1)\u001b[K\n",
      "Unpacking objects: 100% (28/28), 3.30 KiB | 225.00 KiB/s, done.\n",
      "From https://github.com/Saytor20/PyNucleus-Model\n",
      " * branch            main       -> FETCH_HEAD\n",
      "Updating a4a4739..59618e0\n",
      "error: Your local changes to the following files would be overwritten by merge:\n",
      "\tCapstone Project.ipynb\n",
      "\tupdate_log.txt\n",
      "Please commit your changes or stash them before you merge.\n",
      "Aborting\n",
      "Repository is up to date!\n"
     ]
    }
   ],
   "source": [
    "import os\n",
    "from datetime import datetime\n",
    "from dotenv import load_dotenv\n",
    "\n",
    "#--------Google Drive Integration--------#\n",
    "# from google.colab import drive, userdata\n",
    "# This gives Colab access to your files in Google Drive.\n",
    "# drive.mount('/content/drive')\n",
    "# 'GITHUB_USERNAME' and 'GITHUB_TOKEN' saved as secrets in Colab.\n",
    "# GITHUB_USERNAME = userdata.get('GITHUB_USERNAME')\n",
    "# GITHUB_TOKEN = userdata.get('GITHUB_TOKEN')\n",
    "# REPOSITORY_NAME = 'PyNucleus-Model' # Your repository name\n",
    "# NOTEBOOK_DRIVE_PATH = \"/content/drive/MyDrive/PyNucleus Project/Capstone Project.ipynb\"\n",
    "\n",
    "\n",
    "#--------Cursor Integration--------#\n",
    "# Load environment variables from .env file\n",
    "load_dotenv()\n",
    "\n",
    "# Get GitHub credentials from environment variables\n",
    "GITHUB_USERNAME = os.getenv('GITHUB_USERNAME')\n",
    "GITHUB_TOKEN = os.getenv('GITHUB_TOKEN')\n",
    "\n",
    "# Print to verify the variables are loaded (remove this in production)\n",
    "print(f\"Username: {GITHUB_USERNAME}\")\n",
    "print(f\"Token: {GITHUB_TOKEN[:4]}...\") # Only print first 4 chars of token for security\n",
    "\n",
    "# Repository information\n",
    "REPOSITORY_NAME = 'PyNucleus-Model'\n",
    "NOTEBOOK_REPO_FILENAME = \"Capstone Project.ipynb\"\n",
    "LOG_FILENAME = \"update_log.txt\"\n",
    "\n",
    "# Pull latest changes from GitHub\n",
    "print(\"Pulling latest changes from GitHub...\")\n",
    "!git pull https://{GITHUB_TOKEN}@github.com/{GITHUB_USERNAME}/{REPOSITORY_NAME}.git main\n",
    "\n",
    "print(\"Repository is up to date!\")\n",
    "\n",
    "# Add a new line to your log file with the current date and time.\n",
    "log_message = f\"Notebook saved on: {datetime.now().strftime('%Y-%m-%d %H:%M:%S')}\"\n",
    "with open(LOG_FILENAME, \"a\") as f:\n",
    "    f.write(f\"\\n[{datetime.now().strftime('%Y-%m-%d %H:%M:%S')}] Your update message here\")"
   ]
  },
  {
   "cell_type": "code",
   "execution_count": 2,
   "metadata": {},
   "outputs": [],
   "source": [
    "# # Clone the Repository\n",
    "# repo_path = f'/content/{REPOSITORY_NAME}'\n",
    "# !git clone https://{GITHUB_TOKEN}@github.com/{GITHUB_USERNAME}/{REPOSITORY_NAME}.git {repo_path}\n",
    "\n",
    "# # Change the current working directory to the repository\n",
    "# # All subsequent commands will run from inside the repo folder.\n",
    "# os.chdir(repo_path)\n",
    "\n",
    "# # Add a new line to your log file with the current date and time.\n",
    "# log_message = f\"Notebook saved on: {datetime.now().strftime('%Y-%m-%d %H:%M:%S')}\"\n",
    "# with open(LOG_FILENAME, \"a\") as f:\n",
    "#     f.write(log_message + \"\\n\")\n",
    "# print(f\"Updated '{LOG_FILENAME}'\")\n",
    "\n",
    "# # Copy the latest version of notebook from Drive into the cloned repo.\n",
    "# !cp \"{NOTEBOOK_DRIVE_PATH}\" \"{NOTEBOOK_REPO_FILENAME}\"\n",
    "# print(f\"Copied '{NOTEBOOK_REPO_FILENAME}' from Google Drive.\")\n",
    "\n",
    "# # Git identity for commenting\n",
    "# !git config user.name \"{GITHUB_USERNAME}\"\n",
    "# !git config user.email \"{GITHUB_USERNAME}@users.noreply.github.com\""
   ]
  },
  {
   "cell_type": "code",
   "execution_count": 3,
   "metadata": {
    "colab": {
     "base_uri": "https://localhost:8080/"
    },
    "executionInfo": {
     "elapsed": 110795,
     "status": "ok",
     "timestamp": 1748965303690,
     "user": {
      "displayName": "Mohammad A.",
      "userId": "15199683412159334052"
     },
     "user_tz": 240
    },
    "id": "DfNy6HlnOsXc",
    "outputId": "8b84eae8-c15c-4509-db15-00592ebae7ca"
   },
   "outputs": [],
   "source": [
    "# # --- Installation Cell (Run this ONCE per session) ---\n",
    "# print(\"Installing all required packages...\")\n",
    "\n",
    "# %pip install -q langchain langchain-core langchain-community langchain-text-splitters\n",
    "\n",
    "# %pip install -q \"unstructured[local-inference]\"\n",
    "\n",
    "# # LLM & ML Libraries\n",
    "# %pip install -q transformers accelerate bitsandbytes torch sentence-transformers\n",
    "\n",
    "# # Vector Stores\n",
    "# %pip install -q chromadb faiss-cpu # faiss-gpu if you have a Pro Colab with a good GPU\n",
    "\n",
    "# # Data Handling & Utilities\n",
    "# %pip install -q pandas numpy tqdm PyYAML\n",
    "\n",
    "# print(\"All packages installed successfully.\")"
   ]
  },
  {
   "cell_type": "code",
   "execution_count": 4,
   "metadata": {
    "executionInfo": {
     "elapsed": 12520,
     "status": "ok",
     "timestamp": 1748965316213,
     "user": {
      "displayName": "Mohammad A.",
      "userId": "15199683412159334052"
     },
     "user_tz": 240
    },
    "id": "BPyfUDJoDjgn"
   },
   "outputs": [
    {
     "name": "stderr",
     "output_type": "stream",
     "text": [
      "/Library/Frameworks/Python.framework/Versions/3.13/lib/python3.13/site-packages/tqdm/auto.py:21: TqdmWarning: IProgress not found. Please update jupyter and ipywidgets. See https://ipywidgets.readthedocs.io/en/stable/user_install.html\n",
      "  from .autonotebook import tqdm as notebook_tqdm\n",
      "/Library/Frameworks/Python.framework/Versions/3.13/lib/python3.13/site-packages/bitsandbytes/cextension.py:34: UserWarning: The installed version of bitsandbytes was compiled without GPU support. 8-bit optimizers, 8-bit multiplication, and GPU quantization are unavailable.\n",
      "  warn(\"The installed version of bitsandbytes was compiled without GPU support. \"\n"
     ]
    },
    {
     "name": "stdout",
     "output_type": "stream",
     "text": [
      "'NoneType' object has no attribute 'cadam32bit_grad_fp32'\n"
     ]
    }
   ],
   "source": [
    "# --- Core Utilities & File Handling ---\n",
    "import getpass\n",
    "import yaml # Make sure PyYAML is installed\n",
    "from pathlib import Path\n",
    "\n",
    "# --- Data Handling & Progress Bars ---\n",
    "import pandas as pd\n",
    "import numpy as np\n",
    "from tqdm import tqdm\n",
    "\n",
    "# --- Document Loading ---\n",
    "# UnstructuredFileLoader is now in langchain_community\n",
    "from langchain_community.document_loaders import UnstructuredFileLoader\n",
    "# For future testing of more specific loaders:\n",
    "# from langchain_community.document_loaders import PyPDFLoader, Docx2txtLoader\n",
    "\n",
    "# --- OCR Libraries ---\n",
    "# No direct imports needed here if using UnstructuredFileLoader with local-inference,\n",
    "# as it handles OCR internally.\n",
    "# You would only import these for a manual OCR process:\n",
    "# import pytesseract\n",
    "# from pdf2image import convert_from_path\n",
    "# from PIL import Image\n",
    "\n",
    "# --- Core ML & LLM Libraries ---\n",
    "import torch\n",
    "import transformers\n",
    "from transformers import AutoTokenizer, AutoModelForCausalLM, BitsAndBytesConfig\n",
    "import bitsandbytes\n",
    "import accelerate # Often used with transformers\n",
    "\n",
    "# --- Vector Stores & Embeddings ---\n",
    "# Using ChromaDB as the primary vector store.\n",
    "import chromadb\n",
    "from langchain_community.vectorstores import Chroma # Chroma is now in langchain_community\n",
    "from langchain_community.embeddings import HuggingFaceEmbeddings # Embeddings are also in langchain_community\n",
    "# For future testing of a high-performance alternative:\n",
    "# import faiss\n",
    "# from langchain_community.vectorstores import FAISS\n",
    "\n",
    "# --- RAG/Agent Frameworks ---\n",
    "# Core LangChain components\n",
    "import langchain\n",
    "from langchain_core.prompts import ChatPromptTemplate\n",
    "from langchain_core.output_parsers import StrOutputParser\n",
    "# For future testing of an alternative RAG-focused toolkit:\n",
    "# from llama_index.core import SimpleDirectoryReader, VectorStoreIndex"
   ]
  },
  {
   "cell_type": "markdown",
   "metadata": {
    "id": "84DXL9QuH0Tx"
   },
   "source": [
    "# **Data Ingestion and Preprocessing for RAG**"
   ]
  },
  {
   "cell_type": "code",
   "execution_count": 4,
   "metadata": {
    "executionInfo": {
     "elapsed": 5,
     "status": "ok",
     "timestamp": 1748965316223,
     "user": {
      "displayName": "Mohammad A.",
      "userId": "15199683412159334052"
     },
     "user_tz": 240
    },
    "id": "SvrR6N-LH7HB"
   },
   "outputs": [],
   "source": []
  },
  {
   "cell_type": "markdown",
   "metadata": {
    "id": "OL-SmhSQQ_21"
   },
   "source": [
    "# **Data Scrapping**"
   ]
  },
  {
   "cell_type": "code",
   "execution_count": 4,
   "metadata": {
    "executionInfo": {
     "elapsed": 10,
     "status": "ok",
     "timestamp": 1748965316233,
     "user": {
      "displayName": "Mohammad A.",
      "userId": "15199683412159334052"
     },
     "user_tz": 240
    },
    "id": "I69992m0RE82"
   },
   "outputs": [],
   "source": []
  },
  {
   "cell_type": "markdown",
   "metadata": {
    "id": "hISFF6TUEB_H"
   },
   "source": [
    "# This is the last cell of the code"
   ]
  },
  {
   "cell_type": "code",
   "execution_count": 5,
   "metadata": {
    "colab": {
     "base_uri": "https://localhost:8080/"
    },
    "executionInfo": {
     "elapsed": 1610,
     "status": "ok",
     "timestamp": 1748965317848,
     "user": {
      "displayName": "Mohammad A.",
      "userId": "15199683412159334052"
     },
     "user_tz": 240
    },
    "id": "tjThfmG7EDzG",
    "outputId": "c0e3a16d-87b8-4a04-ec34-d92e7264e169"
   },
   "outputs": [
    {
     "name": "stdout",
     "output_type": "stream",
     "text": [
      "[main 29138c1] fUpdate: {update_message}\n",
      " 1 file changed, 25 insertions(+), 2 deletions(-)\n",
      "To https://github.com/Saytor20/PyNucleus-Model.git\n",
      " \u001b[31m! [rejected]       \u001b[m main -> main (non-fast-forward)\n",
      "\u001b[31merror: failed to push some refs to 'https://github.com/Saytor20/PyNucleus-Model.git'\n",
      "\u001b[m\u001b[33mhint: Updates were rejected because the tip of your current branch is behind\u001b[m\n",
      "\u001b[33mhint: its remote counterpart. If you want to integrate the remote changes,\u001b[m\n",
      "\u001b[33mhint: use 'git pull' before pushing again.\u001b[m\n",
      "\u001b[33mhint: See the 'Note about fast-forwards' in 'git push --help' for details.\u001b[m\n",
      "Changes pushed to GitHub successfully!\n"
     ]
    }
   ],
   "source": [
    "# Update log file with your message\n",
    "log_message = f\"Notebook saved on: {datetime.now().strftime('%Y-%m-%d %H:%M:%S')}\"\n",
    "with open(LOG_FILENAME, \"a\") as f:\n",
    "    f.write(f\"\\n[{datetime.now().strftime('%Y-%m-%d %H:%M:%S')}] Your update message here\")\n",
    "\n",
    "# Push changes to GitHub\n",
    "!git add {LOG_FILENAME}  \n",
    "!git commit -m f\"Update: {update_message}\"\n",
    "!git push https://{GITHUB_TOKEN}@github.com/{GITHUB_USERNAME}/{REPOSITORY_NAME}.git main\n",
    "\n",
    "print(\"Changes pushed to GitHub successfully!\")"
   ]
  }
 ],
 "metadata": {
  "colab": {
   "machine_shape": "hm",
   "provenance": []
  },
  "kernelspec": {
   "display_name": "Python 3",
   "name": "python3"
  },
  "language_info": {
   "codemirror_mode": {
    "name": "ipython",
    "version": 3
   },
   "file_extension": ".py",
   "mimetype": "text/x-python",
   "name": "python",
   "nbconvert_exporter": "python",
   "pygments_lexer": "ipython3",
   "version": "3.13.1"
  }
 },
 "nbformat": 4,
 "nbformat_minor": 0
}
