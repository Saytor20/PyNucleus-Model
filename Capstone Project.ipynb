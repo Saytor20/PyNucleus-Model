{
 "cells": [
  {
   "cell_type": "code",
   "execution_count": null,
   "metadata": {},
   "outputs": [],
   "source": [
    "# import os\n",
    "# from datetime import datetime\n",
    "# from dotenv import load_dotenv\n",
    "# #\n",
    "# # #--------Google Drive Integration--------#\n",
    "# # # from google.colab import drive, userdata\n",
    "# # # This gives Colab access to your files in Google Drive.\n",
    "# # # drive.mount('/content/drive')\n",
    "# # # 'GITHUB_USERNAME' and 'GITHUB_TOKEN' saved as secrets in Colab.\n",
    "# # GITHUB_USERNAME = userdata.get('GITHUB_USERNAME')\n",
    "# # GITHUB_TOKEN = userdata.get('GITHUB_TOKEN')\n",
    "# # REPOSITORY_NAME = 'PyNucleus-Model' # Your repository name\n",
    "# # NOTEBOOK_DRIVE_PATH = \"/content/drive/MyDrive/PyNucleus Project/Capstone Project.ipynb\"\n",
    "# #\n",
    "# #\n",
    "# # #--------Cursor Integration--------#\n",
    "# # # Load environment variables from .env file\n",
    "# load_dotenv()\n",
    "# #\n",
    "# # # Get GitHub credentials from environment variables\n",
    "# GITHUB_USERNAME = os.getenv('GITHUB_USERNAME')\n",
    "# GITHUB_TOKEN = os.getenv('GITHUB_TOKEN')\n",
    "# #\n",
    "# # # Print to verify the variables are loaded (remove this in production)\n",
    "# print(f\"Username: {GITHUB_USERNAME}\")\n",
    "# print(f\"Token: {GITHUB_TOKEN[:4]}...\") # Only print first 4 chars of token for security\n",
    "# #\n",
    "# # Repository information\n",
    "# REPOSITORY_NAME = 'PyNucleus-Model'\n",
    "# NOTEBOOK_REPO_FILENAME = \"Capstone Project.ipynb\"\n",
    "# LOG_FILENAME = \"update_log.txt\"\n",
    "\n",
    "# # Pull latest changes from GitHub\n",
    "# print(\"Pulling latest changes from GitHub...\")\n",
    "# !git pull https://{GITHUB_TOKEN}@github.com/{GITHUB_USERNAME}/{REPOSITORY_NAME}.git main\n",
    "\n",
    "# print(\"Repository is up to date!\")\n",
    "\n",
    "# # Log start time\n",
    "# with open(\"update_log.txt\", \"a\") as f:\n",
    "#     f.write(f\" {datetime.now().strftime('%Y-%m-%d %H:%M:%S')}: Log Update\\n\")"
   ]
  },
  {
   "cell_type": "code",
   "execution_count": 47,
   "metadata": {
    "colab": {
     "base_uri": "https://localhost:8080/"
    },
    "executionInfo": {
     "elapsed": 21621,
     "status": "ok",
     "timestamp": 1748965189264,
     "user": {
      "displayName": "Mohammad A.",
      "userId": "15199683412159334052"
     },
     "user_tz": 240
    },
    "id": "pxJK6GpyVui7",
    "outputId": "5fcaf74f-4292-4847-fb37-57d1c0d9a971"
   },
   "outputs": [
    {
     "name": "stdout",
     "output_type": "stream",
     "text": [
      " PyNucleus Model - Pipeline Ready!\n",
      " Available Components:\n",
      "   • RAGPipeline - Document processing and retrieval\n",
      "   • DWSIMPipeline - Chemical process simulation\n",
      "   • ResultsExporter - CSV export functionality\n",
      "   • PipelineUtils - Complete pipeline orchestration\n"
     ]
    }
   ],
   "source": [
    "# PyNucleus Model - Setup and Imports\n",
    "import sys\n",
    "import os\n",
    "from pathlib import Path\n",
    "\n",
    "# Add project root to path\n",
    "sys.path.append(os.path.abspath('.'))\n",
    "\n",
    "# Import PyNucleus Pipeline modules\n",
    "from core_modules.pipeline import RAGPipeline, DWSIMPipeline, ResultsExporter, PipelineUtils\n",
    "\n",
    "print(\" PyNucleus Model - Pipeline Ready!\")\n",
    "print(\" Available Components:\")\n",
    "print(\"   • RAGPipeline - Document processing and retrieval\")\n",
    "print(\"   • DWSIMPipeline - Chemical process simulation\") \n",
    "print(\"   • ResultsExporter - CSV export functionality\")\n",
    "print(\"   • PipelineUtils - Complete pipeline orchestration\")"
   ]
  },
  {
   "cell_type": "markdown",
   "metadata": {
    "id": "84DXL9QuH0Tx"
   },
   "source": [
    "# **PyNucleus Model - Complete Pipeline**\n",
    "\n",
    "This notebook contains the complete PyNucleus model pipeline with separate sections for:\n",
    "1. **Data Ingestion and Preprocessing for RAG** \n",
    "2. **DWSIM Integration and Simulation**\n",
    "3. **Results Export to CSV**"
   ]
  },
  {
   "cell_type": "code",
   "execution_count": null,
   "metadata": {},
   "outputs": [],
   "source": [
    "# Initialize Pipeline Components\n",
    "pipeline = PipelineUtils()\n",
    "\n",
    "print(\"\\n🔧 Pipeline Initialized!\")\n",
    "print(\"Available Functions:\")\n",
    "print(\"   • pipeline.run_complete_pipeline() - Run everything\")\n",
    "print(\"   • pipeline.run_rag_only() - RAG pipeline only\")  \n",
    "print(\"   • pipeline.run_dwsim_only() - DWSIM simulations only\")\n",
    "print(\"   • pipeline.quick_test() - Verify status\")\n",
    "print(\"   • pipeline.view_results_summary() - View results\")\n",
    "print(\"   • pipeline.print_pipeline_status() - Detailed status\")\n",
    "print(\"   • pipeline.clean_all_results() - Clean all data\")\n"
   ]
  },
  {
   "cell_type": "code",
   "execution_count": null,
   "metadata": {},
   "outputs": [],
   "source": [
    "# ========================================\n",
    "# SECTION 1: COMPLETE PIPELINE - Run Everything\n",
    "# ========================================\n",
    "\n",
    "# Run the complete pipeline (RAG + DWSIM + Export)\n",
    "results = pipeline.run_complete_pipeline()\n",
    "\n",
    "# Display results summary\n",
    "if results:\n",
    "    print(f\"\\n🎉 Pipeline completed in {results['duration']:.1f} seconds!\")\n",
    "    print(f\"📊 RAG Results: {len(results['rag_data'])} queries processed\")\n",
    "    print(f\"🔬 DWSIM Results: {len(results['dwsim_data'])} simulations completed\")\n",
    "    print(f\"📁 Exported Files: {len(results['exported_files'])} CSV files created\")\n",
    "else:\n",
    "    print(\"❌ Pipeline execution failed\")"
   ]
  },
  {
   "cell_type": "code",
   "execution_count": null,
   "metadata": {},
   "outputs": [],
   "source": [
    "# ========================================\n",
    "# SECTION 2: INDIVIDUAL PIPELINE COMPONENTS\n",
    "# ========================================\n",
    "\n",
    "# Option 1: Run only RAG Pipeline\n",
    "print(\"📚 RAG Only Pipeline:\")\n",
    "rag_results = pipeline.run_rag_only()\n",
    "if rag_results:\n",
    "    print(f\"   ✅ {len(rag_results['rag_data'])} RAG queries processed\")\n",
    "\n",
    "print(\"\\n\" + \"=\"*50 + \"\\n\")\n",
    "\n",
    "# Option 2: Run only DWSIM Simulations  \n",
    "print(\"🔬 DWSIM Only Pipeline:\")\n",
    "dwsim_results = pipeline.run_dwsim_only()\n",
    "if dwsim_results:\n",
    "    print(f\"   ✅ {len(dwsim_results['dwsim_data'])} DWSIM simulations completed\")\n"
   ]
  },
  {
   "cell_type": "code",
   "execution_count": null,
   "metadata": {},
   "outputs": [],
   "source": [
    "# ========================================\n",
    "# SECTION 3: UTILITY FUNCTIONS\n",
    "# ========================================\n",
    "\n",
    "# View pipeline status\n",
    "pipeline.print_pipeline_status()\n",
    "\n",
    "print(\"\\n\" + \"=\"*50 + \"\\n\")\n",
    "\n",
    "# View results summary\n",
    "pipeline.view_results_summary()\n",
    "\n",
    "print(\"\\n\" + \"=\"*50 + \"\\n\")\n",
    "\n",
    "# Quick test\n",
    "test_results = pipeline.quick_test()\n",
    "print(f\"✅ Quick test completed! Found {test_results['csv_files_count']} CSV files\")\n"
   ]
  },
  {
   "cell_type": "code",
   "execution_count": null,
   "metadata": {},
   "outputs": [],
   "source": [
    "# ========================================\n",
    "# SECTION 4: SIMPLE FUNCTION CALLS\n",
    "# ========================================\n",
    "\n",
    "print(\"🎯 Simple Function Calls for Easy Testing:\")\n",
    "print()\n",
    "\n",
    "# Individual Component Access\n",
    "print(\"📚 Access individual components:\")\n",
    "print(\"   • rag = pipeline.rag_pipeline\")\n",
    "print(\"   • dwsim = pipeline.dwsim_pipeline\") \n",
    "print(\"   • exporter = pipeline.exporter\")\n",
    "print()\n",
    "\n",
    "# Custom Simulations\n",
    "print(\"🧪 Run custom simulations:\")\n",
    "custom_case = {\n",
    "    \"name\": \"custom_test\",\n",
    "    \"type\": \"reactor\", \n",
    "    \"components\": [\"hydrogen\", \"nitrogen\"],\n",
    "    \"description\": \"Custom ammonia synthesis reactor\"\n",
    "}\n",
    "\n",
    "print(f\"Running custom simulation: {custom_case['name']}\")\n",
    "custom_result = pipeline.dwsim_pipeline.run_single_simulation(custom_case)\n",
    "if custom_result:\n",
    "    print(f\"   ✅ Custom simulation completed: {custom_result['success']}\")\n",
    "\n",
    "print()\n",
    "print(\"📁 All results automatically saved as CSV files in ./results/ directory\")\n",
    "print(\"🔄 Run any cell again to re-execute that specific pipeline component\")"
   ]
  },
  {
   "cell_type": "code",
   "execution_count": null,
   "metadata": {},
   "outputs": [],
   "source": [
    "# Clean up and reset (optional)\n",
    "# pipeline.clean_all_results()  # Uncomment to clean all previous results\n",
    "\n",
    "print(\" PyNucleus Pipeline is ready!\")\n",
    "print(\" Use the functions above to run different parts of the pipeline\")\n",
    "print(\" All results are automatically exported to CSV files\")\n",
    "print(\" You can run any cell multiple times to re-execute components\")"
   ]
  },
  {
   "cell_type": "code",
   "execution_count": null,
   "metadata": {},
   "outputs": [],
   "source": [
    "# Complete pipeline\n",
    "results = pipeline.run_complete_pipeline()\n",
    "\n",
    "# Individual components\n",
    "rag_results = pipeline.run_rag_only()\n",
    "dwsim_results = pipeline.run_dwsim_only()\n",
    "\n",
    "# Utilities\n",
    "pipeline.quick_test()\n",
    "pipeline.view_results_summary()\n",
    "pipeline.print_pipeline_status()"
   ]
  },
  {
   "cell_type": "markdown",
   "metadata": {},
   "source": [
    "This is the last step in the code for version control purpose"
   ]
  },
  {
   "cell_type": "code",
   "execution_count": null,
   "metadata": {},
   "outputs": [],
   "source": [
    "# from datetime import datetime\n",
    "\n",
    "# # Log end time\n",
    "# with open(\"update_log.txt\", \"a\") as f:\n",
    "#     f.write(f\"\\n {datetime.now().strftime('%Y-%m-%d %H:%M:%S')} changes made and pushed to origin main\\n\")\n",
    "\n",
    "# # Simple GitHub update function\n",
    "# def update_github():\n",
    "#     print(\" Starting GitHub update...\")\n",
    "#     !git add .\n",
    "#     print(\"📦 Files added to staging\")\n",
    "#     !git commit -m \"Update: $(date +'%Y-%m-%d %H:%M:%S')\"\n",
    "#     print(\"💾 Changes committed\")\n",
    "#     !git push origin main\n",
    "#     print(\"✅ Changes pushed to GitHub successfully!\")\n",
    "\n",
    "# # To use it, just run:\n",
    "# update_github()"
   ]
  }
 ],
 "metadata": {
  "colab": {
   "machine_shape": "hm",
   "provenance": []
  },
  "kernelspec": {
   "display_name": "Python 3",
   "language": "python",
   "name": "python3"
  },
  "language_info": {
   "codemirror_mode": {
    "name": "ipython",
    "version": 3
   },
   "file_extension": ".py",
   "mimetype": "text/x-python",
   "name": "python",
   "nbconvert_exporter": "python",
   "pygments_lexer": "ipython3",
   "version": "3.13.1"
  }
 },
 "nbformat": 4,
 "nbformat_minor": 0
}
