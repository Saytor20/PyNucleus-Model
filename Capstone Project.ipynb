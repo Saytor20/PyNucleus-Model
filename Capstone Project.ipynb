{
 "cells": [
  {
   "cell_type": "code",
   "execution_count": null,
   "metadata": {},
   "outputs": [],
   "source": [
    "# import os\n",
    "# from datetime import datetime\n",
    "# from dotenv import load_dotenv\n",
    "# #\n",
    "# # #--------Google Drive Integration--------#\n",
    "# # # from google.colab import drive, userdata\n",
    "# # # This gives Colab access to your files in Google Drive.\n",
    "# # # drive.mount('/content/drive')\n",
    "# # # 'GITHUB_USERNAME' and 'GITHUB_TOKEN' saved as secrets in Colab.\n",
    "# # GITHUB_USERNAME = userdata.get('GITHUB_USERNAME')\n",
    "# # GITHUB_TOKEN = userdata.get('GITHUB_TOKEN')\n",
    "# # REPOSITORY_NAME = 'PyNucleus-Model' # Your repository name\n",
    "# # NOTEBOOK_DRIVE_PATH = \"/content/drive/MyDrive/PyNucleus Project/Capstone Project.ipynb\"\n",
    "# #\n",
    "# #\n",
    "# # #--------Cursor Integration--------#\n",
    "# # # Load environment variables from .env file\n",
    "# load_dotenv()\n",
    "# #\n",
    "# # # Get GitHub credentials from environment variables\n",
    "# GITHUB_USERNAME = os.getenv('GITHUB_USERNAME')\n",
    "# GITHUB_TOKEN = os.getenv('GITHUB_TOKEN')\n",
    "# #\n",
    "# # # Print to verify the variables are loaded (remove this in production)\n",
    "# print(f\"Username: {GITHUB_USERNAME}\")\n",
    "# print(f\"Token: {GITHUB_TOKEN[:4]}...\") # Only print first 4 chars of token for security\n",
    "# #\n",
    "# # Repository information\n",
    "# REPOSITORY_NAME = 'PyNucleus-Model'\n",
    "# NOTEBOOK_REPO_FILENAME = \"Capstone Project.ipynb\"\n",
    "# LOG_FILENAME = \"update_log.txt\"\n",
    "\n",
    "# # Pull latest changes from GitHub\n",
    "# print(\"Pulling latest changes from GitHub...\")\n",
    "# !git pull https://{GITHUB_TOKEN}@github.com/{GITHUB_USERNAME}/{REPOSITORY_NAME}.git main\n",
    "\n",
    "# print(\"Repository is up to date!\")\n",
    "\n",
    "# # Log start time\n",
    "# with open(\"update_log.txt\", \"a\") as f:\n",
    "#     f.write(f\" {datetime.now().strftime('%Y-%m-%d %H:%M:%S')}: Log Update\\n\")"
   ]
  },
  {
   "cell_type": "code",
   "execution_count": 47,
   "metadata": {
    "colab": {
     "base_uri": "https://localhost:8080/"
    },
    "executionInfo": {
     "elapsed": 21621,
     "status": "ok",
     "timestamp": 1748965189264,
     "user": {
      "displayName": "Mohammad A.",
      "userId": "15199683412159334052"
     },
     "user_tz": 240
    },
    "id": "pxJK6GpyVui7",
    "outputId": "5fcaf74f-4292-4847-fb37-57d1c0d9a971"
   },
   "outputs": [
    {
     "name": "stdout",
     "output_type": "stream",
     "text": [
      " PyNucleus Model - Pipeline Ready!\n",
      " Available Components:\n",
      "   • RAGPipeline - Document processing and retrieval\n",
      "   • DWSIMPipeline - Chemical process simulation\n",
      "   • ResultsExporter - CSV export functionality\n",
      "   • PipelineUtils - Complete pipeline orchestration\n"
     ]
    }
   ],
   "source": [
    "# PyNucleus Model - Setup and Imports\n",
    "import sys\n",
    "import os\n",
    "from pathlib import Path\n",
    "\n",
    "# Add project root to path\n",
    "sys.path.append(os.path.abspath('.'))\n",
    "\n",
    "# Import PyNucleus Pipeline modules\n",
    "from core_modules.pipeline import RAGPipeline, DWSIMPipeline, ResultsExporter, PipelineUtils\n",
    "\n",
    "print(\" PyNucleus Model - Pipeline Ready!\")\n",
    "print(\" Available Components:\")\n",
    "print(\"   • RAGPipeline - Document processing and retrieval\")\n",
    "print(\"   • DWSIMPipeline - Chemical process simulation\") \n",
    "print(\"   • ResultsExporter - CSV export functionality\")\n",
    "print(\"   • PipelineUtils - Complete pipeline orchestration\")"
   ]
  },
  {
   "cell_type": "markdown",
   "metadata": {
    "id": "84DXL9QuH0Tx"
   },
   "source": [
    "# **PyNucleus Model - Complete Pipeline**\n",
    "\n",
    "This notebook contains the complete PyNucleus model pipeline with separate sections for:\n",
    "1. **Data Ingestion and Preprocessing for RAG** \n",
    "2. **DWSIM Integration and Simulation**\n",
    "3. **Results Export to CSV**"
   ]
  },
  {
   "cell_type": "code",
   "execution_count": null,
   "metadata": {},
   "outputs": [],
   "source": [
    "# Initialize Pipeline Components\n",
    "pipeline = PipelineUtils()\n",
    "\n",
    "print(\"\\n🔧 Pipeline Initialized!\")\n",
    "print(\"Available Functions:\")\n",
    "print(\"   • pipeline.run_complete_pipeline() - Run everything\")\n",
    "print(\"   • pipeline.run_rag_only() - RAG pipeline only\")  \n",
    "print(\"   • pipeline.run_dwsim_only() - DWSIM simulations only\")\n",
    "print(\"   • pipeline.quick_test() - Verify status\")\n",
    "print(\"   • pipeline.view_results_summary() - View results\")\n",
    "print(\"   • pipeline.print_pipeline_status() - Detailed status\")\n",
    "print(\"   • pipeline.clean_all_results() - Clean all data\")\n"
   ]
  },
  {
   "cell_type": "code",
   "execution_count": 48,
   "metadata": {},
   "outputs": [
    {
     "name": "stdout",
     "output_type": "stream",
     "text": [
      "🚀 Running complete PyNucleus pipeline...\n",
      "🗑️ RAG results cleared.\n",
      "🗑️ DWSIM results cleared.\n",
      "📚 Starting RAG Pipeline...\n",
      "Step 1: Processing source documents...\n",
      "--- 📄 Starting processing for 5 file(s) in '/Users/mohammadalmusaiteer/PyNucleus-Model/source_documents' ---\n"
     ]
    },
    {
     "name": "stderr",
     "output_type": "stream",
     "text": [
      "Processing files:   0%|          | 0/5 [00:00<?, ?it/s]WARNING: libmagic is unavailable but assists in filetype detection. Please consider installing libmagic for better results.\n",
      "WARNING: libmagic is unavailable but assists in filetype detection. Please consider installing libmagic for better results.\n"
     ]
    },
    {
     "name": "stdout",
     "output_type": "stream",
     "text": [
      " ▶ Processing: Manuscript Draft_Can Modular Plants Lower African Industrialization Barriers.docx\n",
      "   • Success! Saved to: /Users/mohammadalmusaiteer/PyNucleus-Model/converted_to_txt/Manuscript Draft_Can Modular Plants Lower African Industrialization Barriers.txt\n",
      " ▶ Processing: mcp_basics.txt\n",
      "   • Success! Saved to: /Users/mohammadalmusaiteer/PyNucleus-Model/converted_to_txt/mcp_basics.txt\n",
      " ▶ Processing: feasibility_factors.txt\n",
      "   • Success! Saved to: /Users/mohammadalmusaiteer/PyNucleus-Model/converted_to_txt/feasibility_factors.txt\n",
      " ▶ Processing: Bist_Madan.pdf\n"
     ]
    },
    {
     "name": "stderr",
     "output_type": "stream",
     "text": [
      "Processing files:  80%|████████  | 4/5 [00:00<00:00,  8.79it/s]WARNING: libmagic is unavailable but assists in filetype detection. Please consider installing libmagic for better results.\n",
      "Processing files: 100%|██████████| 5/5 [00:00<00:00, 10.90it/s]"
     ]
    },
    {
     "name": "stdout",
     "output_type": "stream",
     "text": [
      "   • Success! Saved to: /Users/mohammadalmusaiteer/PyNucleus-Model/converted_to_txt/Bist_Madan.txt\n",
      " ▶ Processing: sample_document.txt\n",
      "   • Success! Saved to: /Users/mohammadalmusaiteer/PyNucleus-Model/converted_to_txt/sample_document.txt\n",
      "\n",
      " All files processed.\n",
      "\n",
      "Step 2: Scraping Wikipedia articles...\n",
      "🔍 Starting Wikipedia article search for 5 keywords...\n",
      "▶️  Searching for: modular design\n"
     ]
    },
    {
     "name": "stderr",
     "output_type": "stream",
     "text": [
      "\n"
     ]
    },
    {
     "name": "stdout",
     "output_type": "stream",
     "text": [
      "✅  Saved article to: /Users/mohammadalmusaiteer/PyNucleus-Model/web_sources/wikipedia_modular_design.txt\n",
      "▶️  Searching for: software architecture\n",
      "✅  Saved article to: /Users/mohammadalmusaiteer/PyNucleus-Model/web_sources/wikipedia_software_architecture.txt\n",
      "▶️  Searching for: system design\n",
      "✅  Saved article to: /Users/mohammadalmusaiteer/PyNucleus-Model/web_sources/wikipedia_system_design.txt\n",
      "▶️  Searching for: industrial design\n",
      "✅  Saved article to: /Users/mohammadalmusaiteer/PyNucleus-Model/web_sources/wikipedia_industrial_design.txt\n",
      "▶️  Searching for: supply chain\n"
     ]
    },
    {
     "name": "stderr",
     "output_type": "stream",
     "text": [
      "INFO: Load pretrained SentenceTransformer: sentence-transformers/all-MiniLM-L6-v2\n"
     ]
    },
    {
     "name": "stdout",
     "output_type": "stream",
     "text": [
      "✅  Saved article to: /Users/mohammadalmusaiteer/PyNucleus-Model/web_sources/wikipedia_supply_chain.txt\n",
      "\n",
      "✨ Article scraping complete!\n",
      "\n",
      "Step 3: Processing and chunking documents...\n",
      "📰 Found 5 Wikipedia articles\n",
      "📄 Found 5 converted documents\n",
      "📋 Total documents loaded: 10\n",
      "✂️ Split into 846 chunks\n",
      "\n",
      "✅ Successfully saved chunked data to /Users/mohammadalmusaiteer/PyNucleus-Model/converted_chunked_data/:\n",
      "  • chunked_data_full.json - Complete data with metadata\n",
      "  • chunked_data_stats.json - Statistical analysis\n",
      "  • chunked_data_content.txt - Human-readable content\n",
      "\n",
      "\n",
      "Step 4: Building FAISS vector store...\n",
      "=== FAISS VectorDB Analysis ===\n",
      "Started: 2025-06-10 16:07:26\n",
      "Loaded 846 documents from /Users/mohammadalmusaiteer/PyNucleus-Model/converted_chunked_data/chunked_data_full.json\n",
      "Embedding device → cpu   | dim=384\n",
      "Docs indexed : 846\n",
      "Index file   : /Users/mohammadalmusaiteer/PyNucleus-Model/chunk_reports/pynucleus_mcp.faiss\n",
      "Embeds .pkl  : /Users/mohammadalmusaiteer/PyNucleus-Model/chunk_reports/embeddings.pkl\n",
      "\n",
      "-- Files in chunk_reports/ --\n",
      "  · embeddings.pkl\n",
      "  · pynucleus_mcp.faiss\n",
      "  · faiss_analysis_20250610_160726.txt\n",
      "\n",
      "=== Evaluation (Recall@3) ===\n",
      "Q: what are the benefits of modular design  ✓   top-score=0.4110\n",
      "Q: how does modular design work in vehicles ✓   top-score=0.3477\n",
      "\n",
      "Recall@3: 2/2  →  100.0%\n",
      "✅ RAG Pipeline completed! FAISS log → /Users/mohammadalmusaiteer/PyNucleus-Model/chunk_reports/faiss_analysis_20250610_160726.txt\n",
      "🔍 Testing RAG queries...\n",
      "\n",
      "📝 Query: What are the key challenges in implementing modular chemical plants?\n",
      "   1. Score: 0.5875 | Source: /Users/mohammadalmusaiteer/PyNucleus-Model/converted_to_txt/Manuscript Draft_Can Modular Plants Lower African Industrialization Barriers.txt\n",
      "   2. Score: 0.6000 | Source: /Users/mohammadalmusaiteer/PyNucleus-Model/converted_to_txt/Manuscript Draft_Can Modular Plants Lower African Industrialization Barriers.txt\n",
      "   3. Score: 0.6108 | Source: /Users/mohammadalmusaiteer/PyNucleus-Model/converted_to_txt/Manuscript Draft_Can Modular Plants Lower African Industrialization Barriers.txt\n",
      "\n",
      "📝 Query: How does supply chain management affect modular design?\n",
      "   1. Score: 0.7411 | Source: /Users/mohammadalmusaiteer/PyNucleus-Model/web_sources/wikipedia_modular_design.txt\n",
      "   2. Score: 0.7464 | Source: /Users/mohammadalmusaiteer/PyNucleus-Model/web_sources/wikipedia_supply_chain.txt\n",
      "   3. Score: 0.8460 | Source: /Users/mohammadalmusaiteer/PyNucleus-Model/web_sources/wikipedia_modular_design.txt\n",
      "\n",
      "📝 Query: What are the economic benefits of modular construction?\n",
      "   1. Score: 0.5366 | Source: /Users/mohammadalmusaiteer/PyNucleus-Model/web_sources/wikipedia_modular_design.txt\n",
      "   2. Score: 0.6558 | Source: /Users/mohammadalmusaiteer/PyNucleus-Model/web_sources/wikipedia_modular_design.txt\n",
      "   3. Score: 0.6602 | Source: /Users/mohammadalmusaiteer/PyNucleus-Model/web_sources/wikipedia_modular_design.txt\n",
      "\n",
      "📝 Query: How does software architecture relate to modular design?\n",
      "   1. Score: 0.4339 | Source: /Users/mohammadalmusaiteer/PyNucleus-Model/web_sources/wikipedia_modular_design.txt\n",
      "   2. Score: 0.6026 | Source: /Users/mohammadalmusaiteer/PyNucleus-Model/web_sources/wikipedia_software_architecture.txt\n",
      "   3. Score: 0.6121 | Source: /Users/mohammadalmusaiteer/PyNucleus-Model/web_sources/wikipedia_modular_design.txt\n",
      "\n",
      "📝 Query: What are the environmental impacts of modular manufacturing?\n",
      "   1. Score: 0.7035 | Source: /Users/mohammadalmusaiteer/PyNucleus-Model/converted_to_txt/Manuscript Draft_Can Modular Plants Lower African Industrialization Barriers.txt\n",
      "   2. Score: 0.7424 | Source: /Users/mohammadalmusaiteer/PyNucleus-Model/converted_to_txt/Manuscript Draft_Can Modular Plants Lower African Industrialization Barriers.txt\n",
      "   3. Score: 0.7768 | Source: /Users/mohammadalmusaiteer/PyNucleus-Model/converted_to_txt/Manuscript Draft_Can Modular Plants Lower African Industrialization Barriers.txt\n",
      "✅ Query testing completed! 15 results collected.\n",
      "📊 RAG Statistics:\n",
      "   • Total Chunks: 846\n",
      "   • Average Chunk Size: 375.2 characters\n",
      "   • Number of Sources: 10\n",
      "🔬 Starting DWSIM Simulations...\n",
      "📋 Running 5 simulation cases...\n",
      "\n",
      "🧪 Case 1/5: distillation_ethanol_water\n",
      "   ✅ Success - Duration: 0.00s\n",
      "\n",
      "🧪 Case 2/5: reactor_methane_combustion\n",
      "   ✅ Success - Duration: 0.00s\n",
      "\n",
      "🧪 Case 3/5: heat_exchanger_steam\n",
      "   ✅ Success - Duration: 0.00s\n",
      "\n",
      "🧪 Case 4/5: absorber_co2_capture\n",
      "   ✅ Success - Duration: 0.00s\n",
      "\n",
      "🧪 Case 5/5: crystallizer_salt\n",
      "   ✅ Success - Duration: 0.00s\n",
      "\n",
      "📊 Simulation Summary:\n",
      "   • Successful simulations: 5/5\n",
      "   • Failed simulations: 0/5\n",
      "📊 DWSIM Statistics:\n",
      "   • Total Simulations: 5\n",
      "   • Success Rate: 100.0%\n",
      "   • Average Duration: 0.00s\n",
      "\n",
      "💾 Exporting all results to CSV files...\n",
      "✅ RAG results exported: results/rag_query_results.csv\n",
      "   📊 15 query results exported\n",
      "✅ DWSIM results exported: results/dwsim_simulation_results.csv\n",
      "   📊 5 simulation results exported\n",
      "✅ Statistics exported: results/rag_statistics.csv\n",
      "✅ Statistics exported: results/dwsim_statistics.csv\n",
      "✅ Pipeline summary exported: results/pipeline_summary.csv\n",
      "\n",
      "🎉 Export completed successfully!\n",
      "📁 All results saved in: results\n",
      "📈 Files created:\n",
      "   • rag_query_results.csv (12,340 bytes)\n",
      "   • dwsim_simulation_results.csv (1,539 bytes)\n",
      "   • rag_statistics.csv (95 bytes)\n",
      "   • dwsim_statistics.csv (136 bytes)\n",
      "   • pipeline_summary.csv (288 bytes)\n",
      "✅ Complete pipeline finished in 24.7 seconds!\n",
      "\n",
      "🎉 Pipeline completed in 24.7 seconds!\n",
      "📊 RAG Results: 15 queries processed\n",
      "🔬 DWSIM Results: 5 simulations completed\n",
      "📁 Exported Files: 5 CSV files created\n"
     ]
    }
   ],
   "source": [
    "# ========================================\n",
    "# SECTION 1: COMPLETE PIPELINE - Run Everything\n",
    "# ========================================\n",
    "\n",
    "# Run the complete pipeline (RAG + DWSIM + Export)\n",
    "results = pipeline.run_complete_pipeline()\n",
    "\n",
    "# Display results summary\n",
    "if results:\n",
    "    print(f\"\\n🎉 Pipeline completed in {results['duration']:.1f} seconds!\")\n",
    "    print(f\"📊 RAG Results: {len(results['rag_data'])} queries processed\")\n",
    "    print(f\"🔬 DWSIM Results: {len(results['dwsim_data'])} simulations completed\")\n",
    "    print(f\"📁 Exported Files: {len(results['exported_files'])} CSV files created\")\n",
    "else:\n",
    "    print(\"❌ Pipeline execution failed\")"
   ]
  },
  {
   "cell_type": "code",
   "execution_count": null,
   "metadata": {},
   "outputs": [],
   "source": [
    "# ========================================\n",
    "# SECTION 2: INDIVIDUAL PIPELINE COMPONENTS\n",
    "# ========================================\n",
    "\n",
    "# Option 1: Run only RAG Pipeline\n",
    "print(\"📚 RAG Only Pipeline:\")\n",
    "rag_results = pipeline.run_rag_only()\n",
    "if rag_results:\n",
    "    print(f\"   ✅ {len(rag_results['rag_data'])} RAG queries processed\")\n",
    "\n",
    "print(\"\\n\" + \"=\"*50 + \"\\n\")\n",
    "\n",
    "# Option 2: Run only DWSIM Simulations  \n",
    "print(\"🔬 DWSIM Only Pipeline:\")\n",
    "dwsim_results = pipeline.run_dwsim_only()\n",
    "if dwsim_results:\n",
    "    print(f\"   ✅ {len(dwsim_results['dwsim_data'])} DWSIM simulations completed\")\n"
   ]
  },
  {
   "cell_type": "code",
   "execution_count": null,
   "metadata": {},
   "outputs": [],
   "source": [
    "# ========================================\n",
    "# SECTION 3: UTILITY FUNCTIONS\n",
    "# ========================================\n",
    "\n",
    "# View pipeline status\n",
    "pipeline.print_pipeline_status()\n",
    "\n",
    "print(\"\\n\" + \"=\"*50 + \"\\n\")\n",
    "\n",
    "# View results summary\n",
    "pipeline.view_results_summary()\n",
    "\n",
    "print(\"\\n\" + \"=\"*50 + \"\\n\")\n",
    "\n",
    "# Quick test\n",
    "test_results = pipeline.quick_test()\n",
    "print(f\"✅ Quick test completed! Found {test_results['csv_files_count']} CSV files\")\n"
   ]
  },
  {
   "cell_type": "code",
   "execution_count": null,
   "metadata": {},
   "outputs": [],
   "source": [
    "# ========================================\n",
    "# SECTION 4: SIMPLE FUNCTION CALLS\n",
    "# ========================================\n",
    "\n",
    "print(\"🎯 Simple Function Calls for Easy Testing:\")\n",
    "print()\n",
    "\n",
    "# Individual Component Access\n",
    "print(\"📚 Access individual components:\")\n",
    "print(\"   • rag = pipeline.rag_pipeline\")\n",
    "print(\"   • dwsim = pipeline.dwsim_pipeline\") \n",
    "print(\"   • exporter = pipeline.exporter\")\n",
    "print()\n",
    "\n",
    "# Custom Simulations\n",
    "print(\"🧪 Run custom simulations:\")\n",
    "custom_case = {\n",
    "    \"name\": \"custom_test\",\n",
    "    \"type\": \"reactor\", \n",
    "    \"components\": [\"hydrogen\", \"nitrogen\"],\n",
    "    \"description\": \"Custom ammonia synthesis reactor\"\n",
    "}\n",
    "\n",
    "print(f\"Running custom simulation: {custom_case['name']}\")\n",
    "custom_result = pipeline.dwsim_pipeline.run_single_simulation(custom_case)\n",
    "if custom_result:\n",
    "    print(f\"   ✅ Custom simulation completed: {custom_result['success']}\")\n",
    "\n",
    "print()\n",
    "print(\"📁 All results automatically saved as CSV files in ./results/ directory\")\n",
    "print(\"🔄 Run any cell again to re-execute that specific pipeline component\")"
   ]
  },
  {
   "cell_type": "code",
   "execution_count": null,
   "metadata": {},
   "outputs": [],
   "source": [
    "# Clean up and reset (optional)\n",
    "# pipeline.clean_all_results()  # Uncomment to clean all previous results\n",
    "\n",
    "print(\" PyNucleus Pipeline is ready!\")\n",
    "print(\" Use the functions above to run different parts of the pipeline\")\n",
    "print(\" All results are automatically exported to CSV files\")\n",
    "print(\" You can run any cell multiple times to re-execute components\")"
   ]
  },
  {
   "cell_type": "code",
   "execution_count": null,
   "metadata": {},
   "outputs": [],
   "source": [
    "# Complete pipeline\n",
    "results = pipeline.run_complete_pipeline()\n",
    "\n",
    "# Individual components\n",
    "rag_results = pipeline.run_rag_only()\n",
    "dwsim_results = pipeline.run_dwsim_only()\n",
    "\n",
    "# Utilities\n",
    "pipeline.quick_test()\n",
    "pipeline.view_results_summary()\n",
    "pipeline.print_pipeline_status()"
   ]
  },
  {
   "cell_type": "markdown",
   "metadata": {},
   "source": [
    "This is the last step in the code for version control purpose"
   ]
  },
  {
   "cell_type": "code",
   "execution_count": 49,
   "metadata": {},
   "outputs": [
    {
     "name": "stdout",
     "output_type": "stream",
     "text": [
      "🔄 Starting GitHub update for branch: Main-+-RAG...\n"
     ]
    },
    {
     "name": "stderr",
     "output_type": "stream",
     "text": [
      "huggingface/tokenizers: The current process just got forked, after parallelism has already been used. Disabling parallelism to avoid deadlocks...\n",
      "To disable this warning, you can either:\n",
      "\t- Avoid using `tokenizers` before the fork if possible\n",
      "\t- Explicitly set the environment variable TOKENIZERS_PARALLELISM=(true | false)\n"
     ]
    },
    {
     "name": "stdout",
     "output_type": "stream",
     "text": [
      "📦 Files added to staging\n",
      "[main 556c75b] Update: 2025-06-10 16:18:36\n"
     ]
    },
    {
     "name": "stderr",
     "output_type": "stream",
     "text": [
      "huggingface/tokenizers: The current process just got forked, after parallelism has already been used. Disabling parallelism to avoid deadlocks...\n",
      "To disable this warning, you can either:\n",
      "\t- Avoid using `tokenizers` before the fork if possible\n",
      "\t- Explicitly set the environment variable TOKENIZERS_PARALLELISM=(true | false)\n"
     ]
    },
    {
     "name": "stdout",
     "output_type": "stream",
     "text": [
      " 43 files changed, 5396 insertions(+), 763 deletions(-)\n",
      " delete mode 100644 chunk_reports/faiss_analysis_20250610_011345.txt\n",
      " delete mode 100644 chunk_reports/faiss_analysis_20250610_011713.txt\n",
      " delete mode 100644 chunk_reports/faiss_analysis_20250610_011731.txt\n",
      " delete mode 100644 chunk_reports/faiss_analysis_20250610_012518.txt\n",
      " create mode 100644 core_modules/pipeline/__init__.py\n",
      " create mode 100644 core_modules/pipeline/pipeline_dwsim.py\n",
      " create mode 100644 core_modules/pipeline/pipeline_export.py\n",
      " create mode 100644 core_modules/pipeline/pipeline_rag.py\n",
      " create mode 100644 core_modules/pipeline/pipeline_utils.py\n",
      " delete mode 100644 docker_config/Dockerfile\n",
      " delete mode 100644 docker_config/docker-compose.yml\n",
      " create mode 100644 dwsim_rag_integration/README.md\n",
      " create mode 100644 dwsim_rag_integration/__init__.py\n",
      " create mode 100644 dwsim_rag_integration/config/Dockerfile.dwsim-service\n",
      " create mode 100644 dwsim_rag_integration/config/__init__.py\n",
      " create mode 100644 dwsim_rag_integration/config/docker-compose.yml\n",
      " create mode 100644 dwsim_rag_integration/core/__init__.py\n",
      " create mode 100644 dwsim_rag_integration/core/enhanced_dwsim_bridge.py\n",
      " create mode 100644 dwsim_rag_integration/examples/__init__.py\n",
      " create mode 100644 dwsim_rag_integration/examples/demo.py\n",
      " create mode 100644 dwsim_rag_integration/examples/test_simulation.dwsim\n",
      " create mode 100644 dwsim_rag_integration/requirements.txt\n",
      " create mode 100644 dwsim_rag_integration/service/__init__.py\n",
      " create mode 100644 dwsim_rag_integration/service/dwsim_service_client.py\n",
      " create mode 100644 dwsim_rag_integration/service/enhanced_dwsim_service.py\n",
      " delete mode 100644 dwsim_workflow.py\n",
      " create mode 100644 project_info/DWSIM_CLEANUP_SUMMARY.md\n",
      " create mode 100644 project_info/LOCAL_TESTING_REPORT.md\n",
      " create mode 100644 results/dwsim_simulation_results.csv\n",
      " create mode 100644 results/dwsim_statistics.csv\n",
      " create mode 100644 results/pipeline_summary.csv\n",
      " create mode 100644 results/rag_query_results.csv\n",
      " create mode 100644 results/rag_statistics.csv\n",
      " create mode 100644 scripts/demo_dwsim_docker.py\n",
      " delete mode 100644 vector_db/embeddings.pkl\n",
      " delete mode 100644 vector_db/pynucleus_mcp.faiss/index.faiss\n",
      " delete mode 100644 vector_db/pynucleus_mcp.faiss/index.pkl\n",
      "💾 Changes committed\n",
      "error: src refspec Main-+-RAG does not match any\n",
      "\u001b[31merror: failed to push some refs to 'https://github.com/Saytor20/PyNucleus-Model.git'\n",
      "\u001b[m"
     ]
    },
    {
     "name": "stderr",
     "output_type": "stream",
     "text": [
      "huggingface/tokenizers: The current process just got forked, after parallelism has already been used. Disabling parallelism to avoid deadlocks...\n",
      "To disable this warning, you can either:\n",
      "\t- Avoid using `tokenizers` before the fork if possible\n",
      "\t- Explicitly set the environment variable TOKENIZERS_PARALLELISM=(true | false)\n"
     ]
    },
    {
     "name": "stdout",
     "output_type": "stream",
     "text": [
      "✅ Changes pushed to GitHub branch 'Main-+-RAG' successfully!\n"
     ]
    }
   ],
   "source": [
    "from datetime import datetime\n",
    "\n",
    "# Log end time\n",
    "with open(\"update_log.txt\", \"a\") as f:\n",
    "    f.write(f\"\\n {datetime.now().strftime('%Y-%m-%d %H:%M:%S')} changes made and pushed to origin main\\n\")\n",
    "\n",
    "# Simple GitHub update function\n",
    "def update_github(branch_name=\"main\"):\n",
    "    print(f\"🔄 Starting GitHub update for branch: {branch_name}...\")\n",
    "    !git add .\n",
    "    print(\"📦 Files added to staging\")\n",
    "    !git commit -m \"Update: $(date +'%Y-%m-%d %H:%M:%S')\"\n",
    "    print(\"💾 Changes committed\")\n",
    "    !git push origin {branch_name}\n",
    "    print(f\"✅ Changes pushed to GitHub branch '{branch_name}' successfully!\")\n",
    "\n",
    "# To use it, just run with your desired branch name:\n",
    "update_github(\"main-rag\")# Or use default main branch:\n",
    "# update_github()"
   ]
  },
  {
   "cell_type": "markdown",
   "metadata": {
    "ExecuteTime": {
     "end_time": "2025-06-04T16:50:23.979205Z",
     "start_time": "2025-06-04T16:50:22.863275Z"
    },
    "colab": {
     "base_uri": "https://localhost:8080/"
    },
    "executionInfo": {
     "elapsed": 1610,
     "status": "ok",
     "timestamp": 1748965317848,
     "user": {
      "displayName": "Mohammad A.",
      "userId": "15199683412159334052"
     },
     "user_tz": 240
    },
    "id": "tjThfmG7EDzG",
    "outputId": "c0e3a16d-87b8-4a04-ec34-d92e7264e169"
   },
   "source": [
    "from datetime import datetime\n",
    "\n",
    "# Log end time\n",
    "with open(\"update_log.txt\", \"a\") as f:\n",
    "    f.write(f\"\\n {datetime.now().strftime('%Y-%m-%d %H:%M:%S')} changes made and pushed to origin main\\n\")\n",
    "\n",
    "# Simple GitHub update function\n",
    "def update_github():\n",
    "    !git add .\n",
    "    !git commit -m \"Update: Adding all files to repository\"\n",
    "    !git push origin main\n",
    "    print(\"All files pushed to GitHub successfully!\")\n",
    "\n",
    "# To use it, just run:\n",
    "update_github()"
   ]
  }
 ],
 "metadata": {
  "colab": {
   "machine_shape": "hm",
   "provenance": []
  },
  "kernelspec": {
   "display_name": "Python 3",
   "language": "python",
   "name": "python3"
  },
  "language_info": {
   "codemirror_mode": {
    "name": "ipython",
    "version": 3
   },
   "file_extension": ".py",
   "mimetype": "text/x-python",
   "name": "python",
   "nbconvert_exporter": "python",
   "pygments_lexer": "ipython3",
   "version": "3.13.1"
  }
 },
 "nbformat": 4,
 "nbformat_minor": 0
}
